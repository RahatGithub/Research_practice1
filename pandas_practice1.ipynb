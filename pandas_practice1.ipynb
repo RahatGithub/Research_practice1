{
 "cells": [
  {
   "cell_type": "code",
   "execution_count": 2,
   "metadata": {},
   "outputs": [],
   "source": [
    "import pandas as pd"
   ]
  },
  {
   "cell_type": "code",
   "execution_count": 3,
   "metadata": {},
   "outputs": [],
   "source": [
    "data = pd.read_csv('Data/first_data.csv')"
   ]
  },
  {
   "cell_type": "code",
   "execution_count": 4,
   "metadata": {
    "scrolled": false
   },
   "outputs": [
    {
     "data": {
      "text/html": [
       "<div>\n",
       "<style scoped>\n",
       "    .dataframe tbody tr th:only-of-type {\n",
       "        vertical-align: middle;\n",
       "    }\n",
       "\n",
       "    .dataframe tbody tr th {\n",
       "        vertical-align: top;\n",
       "    }\n",
       "\n",
       "    .dataframe thead th {\n",
       "        text-align: right;\n",
       "    }\n",
       "</style>\n",
       "<table border=\"1\" class=\"dataframe\">\n",
       "  <thead>\n",
       "    <tr style=\"text-align: right;\">\n",
       "      <th></th>\n",
       "      <th>epoch</th>\n",
       "      <th>train_loss</th>\n",
       "      <th>train_acc</th>\n",
       "      <th>validation_loss</th>\n",
       "      <th>validation_acc</th>\n",
       "    </tr>\n",
       "  </thead>\n",
       "  <tbody>\n",
       "    <tr>\n",
       "      <th>0</th>\n",
       "      <td>1</td>\n",
       "      <td>6.989439</td>\n",
       "      <td>0.001150</td>\n",
       "      <td>80.856150</td>\n",
       "      <td>0.000000</td>\n",
       "    </tr>\n",
       "    <tr>\n",
       "      <th>1</th>\n",
       "      <td>2</td>\n",
       "      <td>6.814090</td>\n",
       "      <td>0.002807</td>\n",
       "      <td>6.786588</td>\n",
       "      <td>0.004883</td>\n",
       "    </tr>\n",
       "    <tr>\n",
       "      <th>2</th>\n",
       "      <td>3</td>\n",
       "      <td>6.516962</td>\n",
       "      <td>0.007390</td>\n",
       "      <td>6.511988</td>\n",
       "      <td>0.011719</td>\n",
       "    </tr>\n",
       "    <tr>\n",
       "      <th>3</th>\n",
       "      <td>4</td>\n",
       "      <td>6.149220</td>\n",
       "      <td>0.014932</td>\n",
       "      <td>10.393121</td>\n",
       "      <td>0.005859</td>\n",
       "    </tr>\n",
       "    <tr>\n",
       "      <th>4</th>\n",
       "      <td>5</td>\n",
       "      <td>5.769540</td>\n",
       "      <td>0.027580</td>\n",
       "      <td>5.938978</td>\n",
       "      <td>0.015625</td>\n",
       "    </tr>\n",
       "    <tr>\n",
       "      <th>...</th>\n",
       "      <td>...</td>\n",
       "      <td>...</td>\n",
       "      <td>...</td>\n",
       "      <td>...</td>\n",
       "      <td>...</td>\n",
       "    </tr>\n",
       "    <tr>\n",
       "      <th>94</th>\n",
       "      <td>95</td>\n",
       "      <td>0.008084</td>\n",
       "      <td>0.999696</td>\n",
       "      <td>6.287661</td>\n",
       "      <td>0.227314</td>\n",
       "    </tr>\n",
       "    <tr>\n",
       "      <th>95</th>\n",
       "      <td>96</td>\n",
       "      <td>0.007909</td>\n",
       "      <td>0.999611</td>\n",
       "      <td>6.166366</td>\n",
       "      <td>0.241612</td>\n",
       "    </tr>\n",
       "    <tr>\n",
       "      <th>96</th>\n",
       "      <td>97</td>\n",
       "      <td>0.007696</td>\n",
       "      <td>0.999882</td>\n",
       "      <td>6.388889</td>\n",
       "      <td>0.229542</td>\n",
       "    </tr>\n",
       "    <tr>\n",
       "      <th>97</th>\n",
       "      <td>98</td>\n",
       "      <td>0.008200</td>\n",
       "      <td>0.999510</td>\n",
       "      <td>6.258015</td>\n",
       "      <td>0.235126</td>\n",
       "    </tr>\n",
       "    <tr>\n",
       "      <th>98</th>\n",
       "      <td>99</td>\n",
       "      <td>0.008014</td>\n",
       "      <td>0.999679</td>\n",
       "      <td>6.082789</td>\n",
       "      <td>0.238331</td>\n",
       "    </tr>\n",
       "  </tbody>\n",
       "</table>\n",
       "<p>99 rows × 5 columns</p>\n",
       "</div>"
      ],
      "text/plain": [
       "    epoch  train_loss  train_acc  validation_loss  validation_acc\n",
       "0       1    6.989439   0.001150        80.856150        0.000000\n",
       "1       2    6.814090   0.002807         6.786588        0.004883\n",
       "2       3    6.516962   0.007390         6.511988        0.011719\n",
       "3       4    6.149220   0.014932        10.393121        0.005859\n",
       "4       5    5.769540   0.027580         5.938978        0.015625\n",
       "..    ...         ...        ...              ...             ...\n",
       "94     95    0.008084   0.999696         6.287661        0.227314\n",
       "95     96    0.007909   0.999611         6.166366        0.241612\n",
       "96     97    0.007696   0.999882         6.388889        0.229542\n",
       "97     98    0.008200   0.999510         6.258015        0.235126\n",
       "98     99    0.008014   0.999679         6.082789        0.238331\n",
       "\n",
       "[99 rows x 5 columns]"
      ]
     },
     "execution_count": 4,
     "metadata": {},
     "output_type": "execute_result"
    }
   ],
   "source": [
    "data"
   ]
  },
  {
   "cell_type": "code",
   "execution_count": 5,
   "metadata": {},
   "outputs": [
    {
     "name": "stdout",
     "output_type": "stream",
     "text": [
      "<class 'pandas.core.frame.DataFrame'>\n",
      "RangeIndex: 99 entries, 0 to 98\n",
      "Data columns (total 5 columns):\n",
      " #   Column           Non-Null Count  Dtype  \n",
      "---  ------           --------------  -----  \n",
      " 0   epoch            99 non-null     int64  \n",
      " 1   train_loss       99 non-null     float64\n",
      " 2   train_acc        99 non-null     float64\n",
      " 3   validation_loss  99 non-null     float64\n",
      " 4   validation_acc   99 non-null     float64\n",
      "dtypes: float64(4), int64(1)\n",
      "memory usage: 4.0 KB\n"
     ]
    }
   ],
   "source": [
    "data.info() # to get info about the data. we can check if there's any missing data"
   ]
  },
  {
   "cell_type": "code",
   "execution_count": 7,
   "metadata": {},
   "outputs": [
    {
     "data": {
      "text/plain": [
       "0     6.989439\n",
       "1     6.814090\n",
       "2     6.516962\n",
       "3     6.149220\n",
       "4     5.769540\n",
       "        ...   \n",
       "94    0.008084\n",
       "95    0.007909\n",
       "96    0.007696\n",
       "97    0.008200\n",
       "98    0.008014\n",
       "Name: train_loss, Length: 99, dtype: float64"
      ]
     },
     "execution_count": 7,
     "metadata": {},
     "output_type": "execute_result"
    }
   ],
   "source": [
    "data['train_loss'] # getting one specific column"
   ]
  },
  {
   "cell_type": "code",
   "execution_count": 13,
   "metadata": {},
   "outputs": [
    {
     "data": {
      "text/html": [
       "<div>\n",
       "<style scoped>\n",
       "    .dataframe tbody tr th:only-of-type {\n",
       "        vertical-align: middle;\n",
       "    }\n",
       "\n",
       "    .dataframe tbody tr th {\n",
       "        vertical-align: top;\n",
       "    }\n",
       "\n",
       "    .dataframe thead th {\n",
       "        text-align: right;\n",
       "    }\n",
       "</style>\n",
       "<table border=\"1\" class=\"dataframe\">\n",
       "  <thead>\n",
       "    <tr style=\"text-align: right;\">\n",
       "      <th></th>\n",
       "      <th>epoch</th>\n",
       "      <th>train_loss</th>\n",
       "      <th>train_acc</th>\n",
       "      <th>validation_loss</th>\n",
       "      <th>validation_acc</th>\n",
       "    </tr>\n",
       "  </thead>\n",
       "  <tbody>\n",
       "    <tr>\n",
       "      <th>0</th>\n",
       "      <td>1</td>\n",
       "      <td>6.989439</td>\n",
       "      <td>0.001150</td>\n",
       "      <td>80.856150</td>\n",
       "      <td>0.000000</td>\n",
       "    </tr>\n",
       "    <tr>\n",
       "      <th>1</th>\n",
       "      <td>2</td>\n",
       "      <td>6.814090</td>\n",
       "      <td>0.002807</td>\n",
       "      <td>6.786588</td>\n",
       "      <td>0.004883</td>\n",
       "    </tr>\n",
       "    <tr>\n",
       "      <th>2</th>\n",
       "      <td>3</td>\n",
       "      <td>6.516962</td>\n",
       "      <td>0.007390</td>\n",
       "      <td>6.511988</td>\n",
       "      <td>0.011719</td>\n",
       "    </tr>\n",
       "    <tr>\n",
       "      <th>3</th>\n",
       "      <td>4</td>\n",
       "      <td>6.149220</td>\n",
       "      <td>0.014932</td>\n",
       "      <td>10.393121</td>\n",
       "      <td>0.005859</td>\n",
       "    </tr>\n",
       "    <tr>\n",
       "      <th>4</th>\n",
       "      <td>5</td>\n",
       "      <td>5.769540</td>\n",
       "      <td>0.027580</td>\n",
       "      <td>5.938978</td>\n",
       "      <td>0.015625</td>\n",
       "    </tr>\n",
       "    <tr>\n",
       "      <th>5</th>\n",
       "      <td>6</td>\n",
       "      <td>5.433582</td>\n",
       "      <td>0.044068</td>\n",
       "      <td>6.068404</td>\n",
       "      <td>0.017578</td>\n",
       "    </tr>\n",
       "    <tr>\n",
       "      <th>6</th>\n",
       "      <td>7</td>\n",
       "      <td>5.145537</td>\n",
       "      <td>0.065797</td>\n",
       "      <td>5.505190</td>\n",
       "      <td>0.041642</td>\n",
       "    </tr>\n",
       "    <tr>\n",
       "      <th>7</th>\n",
       "      <td>8</td>\n",
       "      <td>4.888668</td>\n",
       "      <td>0.087815</td>\n",
       "      <td>5.755574</td>\n",
       "      <td>0.056290</td>\n",
       "    </tr>\n",
       "    <tr>\n",
       "      <th>8</th>\n",
       "      <td>9</td>\n",
       "      <td>4.653337</td>\n",
       "      <td>0.111641</td>\n",
       "      <td>6.045259</td>\n",
       "      <td>0.043595</td>\n",
       "    </tr>\n",
       "    <tr>\n",
       "      <th>9</th>\n",
       "      <td>10</td>\n",
       "      <td>4.420462</td>\n",
       "      <td>0.135992</td>\n",
       "      <td>5.893400</td>\n",
       "      <td>0.054337</td>\n",
       "    </tr>\n",
       "    <tr>\n",
       "      <th>10</th>\n",
       "      <td>11</td>\n",
       "      <td>4.198778</td>\n",
       "      <td>0.161644</td>\n",
       "      <td>17.626006</td>\n",
       "      <td>0.001953</td>\n",
       "    </tr>\n",
       "    <tr>\n",
       "      <th>11</th>\n",
       "      <td>12</td>\n",
       "      <td>4.151896</td>\n",
       "      <td>0.168544</td>\n",
       "      <td>5.696584</td>\n",
       "      <td>0.070312</td>\n",
       "    </tr>\n",
       "    <tr>\n",
       "      <th>12</th>\n",
       "      <td>13</td>\n",
       "      <td>3.833489</td>\n",
       "      <td>0.209044</td>\n",
       "      <td>7.487904</td>\n",
       "      <td>0.095628</td>\n",
       "    </tr>\n",
       "  </tbody>\n",
       "</table>\n",
       "</div>"
      ],
      "text/plain": [
       "    epoch  train_loss  train_acc  validation_loss  validation_acc\n",
       "0       1    6.989439   0.001150        80.856150        0.000000\n",
       "1       2    6.814090   0.002807         6.786588        0.004883\n",
       "2       3    6.516962   0.007390         6.511988        0.011719\n",
       "3       4    6.149220   0.014932        10.393121        0.005859\n",
       "4       5    5.769540   0.027580         5.938978        0.015625\n",
       "5       6    5.433582   0.044068         6.068404        0.017578\n",
       "6       7    5.145537   0.065797         5.505190        0.041642\n",
       "7       8    4.888668   0.087815         5.755574        0.056290\n",
       "8       9    4.653337   0.111641         6.045259        0.043595\n",
       "9      10    4.420462   0.135992         5.893400        0.054337\n",
       "10     11    4.198778   0.161644        17.626006        0.001953\n",
       "11     12    4.151896   0.168544         5.696584        0.070312\n",
       "12     13    3.833489   0.209044         7.487904        0.095628"
      ]
     },
     "execution_count": 13,
     "metadata": {},
     "output_type": "execute_result"
    }
   ],
   "source": [
    "data[:13]  # getting a sliced portion of the dataset"
   ]
  },
  {
   "cell_type": "code",
   "execution_count": 36,
   "metadata": {},
   "outputs": [
    {
     "data": {
      "text/plain": [
       "0.0703125"
      ]
     },
     "execution_count": 36,
     "metadata": {},
     "output_type": "execute_result"
    }
   ],
   "source": [
    "data.iloc[11][4]  # getting a specific value by row and column "
   ]
  },
  {
   "cell_type": "code",
   "execution_count": 44,
   "metadata": {},
   "outputs": [
    {
     "data": {
      "text/plain": [
       "6.1492203886890815"
      ]
     },
     "execution_count": 44,
     "metadata": {},
     "output_type": "execute_result"
    }
   ],
   "source": [
    "data.loc[3, 'train_loss']"
   ]
  },
  {
   "cell_type": "code",
   "execution_count": null,
   "metadata": {},
   "outputs": [],
   "source": []
  }
 ],
 "metadata": {
  "kernelspec": {
   "display_name": "Python 3",
   "language": "python",
   "name": "python3"
  },
  "language_info": {
   "codemirror_mode": {
    "name": "ipython",
    "version": 3
   },
   "file_extension": ".py",
   "mimetype": "text/x-python",
   "name": "python",
   "nbconvert_exporter": "python",
   "pygments_lexer": "ipython3",
   "version": "3.8.5"
  }
 },
 "nbformat": 4,
 "nbformat_minor": 4
}
